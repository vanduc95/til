{
 "cells": [
  {
   "cell_type": "code",
   "execution_count": 6,
   "metadata": {},
   "outputs": [
    {
     "name": "stdout",
     "output_type": "stream",
     "text": [
      "new_configuration.conf\n"
     ]
    }
   ],
   "source": [
    "a= ('output_file',\n",
    "         {'output_file': 'new_configuration.conf',\n",
    "          'old_config_file': 'old_configuration.conf'})\n",
    "\n",
    "print(a[1]['output_file'])\n",
    "    "
   ]
  }
 ],
 "metadata": {},
 "nbformat": 4,
 "nbformat_minor": 2
}
